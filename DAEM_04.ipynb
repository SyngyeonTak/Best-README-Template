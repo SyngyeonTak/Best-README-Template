{
  "nbformat": 4,
  "nbformat_minor": 0,
  "metadata": {
    "colab": {
      "provenance": []
    },
    "kernelspec": {
      "name": "python3",
      "display_name": "Python 3"
    },
    "language_info": {
      "name": "python"
    }
  },
  "cells": [
    {
      "cell_type": "markdown",
      "source": [
        "![seoultech logo small.png](data:image/png;base64,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)"
      ],
      "metadata": {
        "id": "GToIZEsxEqpS"
      }
    },
    {
      "cell_type": "markdown",
      "source": [
        "# Lab Session \\# 04\n",
        "---\n",
        "\n",
        "by Prof. Josué Obregón <br>\n",
        "Data Analysis for Electronic Manufacturing <br>\n",
        "Department of Data Science - SeoulTech<br>\n",
        "\n",
        "## Objective\n",
        "\n",
        "The objectives of this lab session are as follows:\n",
        "\n",
        "1.   Introduce [Seaborn](https://seaborn.pydata.org/), a high level visualization library that is used for creating visualization plots that are useful for doing Exploratory Data Analysis (EDA).\n",
        "\n",
        "2. Introduce the student to different data visualization techniques for helping to understand the characteristics and behavior of the target variable in predictive models.\n",
        "\n",
        "3. Likewise, the techniques are also useful for understanding the relationship of the predictor variables in two ways, between themselves and with the target variable.\n",
        "\n",
        "The analysis presented in this labsession is based on [Chapter 4](http://www.feat.engineering/exploratory-visualizations.html) of the **Feature book engineering and selection: A practical approach for predictive models**. You can check it out for a more detailed explanation of the analysis process."
      ],
      "metadata": {
        "id": "Ezhlc9pxD0YK"
      }
    },
    {
      "cell_type": "markdown",
      "metadata": {
        "id": "RYjZ_KEuTCTe"
      },
      "source": [
        "## Importing libraries and uploading data to various pandas DataFrames\n",
        "\n",
        "\n",
        "The libraries that we will import to start with are pandas and numpy for data handling, and matplotlib and seaborn for generating visualizations.\n",
        "\n",
        "Data were obtained from [Chicago data portal](https://data.cityofchicago.org/Transportation/CTA-Ridership-L-Station-Entries-Daily-Totals/5neh-572f).\n",
        "\n",
        "The data needs some preprocessing, but that is not the point of this Lab Session, so I am including two extra files. The first is where the days used for the analysis are recorded, and the second are attributes created by the author of the book."
      ]
    },
    {
      "cell_type": "code",
      "source": [
        "!pip install --upgrade seaborn"
      ],
      "metadata": {
        "id": "JGjnqIbDsSU3",
        "outputId": "1651ebee-d0c6-4dbb-a03e-7c3b584c6bf9",
        "colab": {
          "base_uri": "https://localhost:8080/"
        }
      },
      "execution_count": 1,
      "outputs": [
        {
          "output_type": "stream",
          "name": "stdout",
          "text": [
            "Requirement already satisfied: seaborn in /usr/local/lib/python3.10/dist-packages (0.13.2)\n",
            "Requirement already satisfied: numpy!=1.24.0,>=1.20 in /usr/local/lib/python3.10/dist-packages (from seaborn) (1.26.4)\n",
            "Requirement already satisfied: pandas>=1.2 in /usr/local/lib/python3.10/dist-packages (from seaborn) (2.2.2)\n",
            "Requirement already satisfied: matplotlib!=3.6.1,>=3.4 in /usr/local/lib/python3.10/dist-packages (from seaborn) (3.7.1)\n",
            "Requirement already satisfied: contourpy>=1.0.1 in /usr/local/lib/python3.10/dist-packages (from matplotlib!=3.6.1,>=3.4->seaborn) (1.3.0)\n",
            "Requirement already satisfied: cycler>=0.10 in /usr/local/lib/python3.10/dist-packages (from matplotlib!=3.6.1,>=3.4->seaborn) (0.12.1)\n",
            "Requirement already satisfied: fonttools>=4.22.0 in /usr/local/lib/python3.10/dist-packages (from matplotlib!=3.6.1,>=3.4->seaborn) (4.54.1)\n",
            "Requirement already satisfied: kiwisolver>=1.0.1 in /usr/local/lib/python3.10/dist-packages (from matplotlib!=3.6.1,>=3.4->seaborn) (1.4.7)\n",
            "Requirement already satisfied: packaging>=20.0 in /usr/local/lib/python3.10/dist-packages (from matplotlib!=3.6.1,>=3.4->seaborn) (24.1)\n",
            "Requirement already satisfied: pillow>=6.2.0 in /usr/local/lib/python3.10/dist-packages (from matplotlib!=3.6.1,>=3.4->seaborn) (10.4.0)\n",
            "Requirement already satisfied: pyparsing>=2.3.1 in /usr/local/lib/python3.10/dist-packages (from matplotlib!=3.6.1,>=3.4->seaborn) (3.2.0)\n",
            "Requirement already satisfied: python-dateutil>=2.7 in /usr/local/lib/python3.10/dist-packages (from matplotlib!=3.6.1,>=3.4->seaborn) (2.8.2)\n",
            "Requirement already satisfied: pytz>=2020.1 in /usr/local/lib/python3.10/dist-packages (from pandas>=1.2->seaborn) (2024.2)\n",
            "Requirement already satisfied: tzdata>=2022.7 in /usr/local/lib/python3.10/dist-packages (from pandas>=1.2->seaborn) (2024.2)\n",
            "Requirement already satisfied: six>=1.5 in /usr/local/lib/python3.10/dist-packages (from python-dateutil>=2.7->matplotlib!=3.6.1,>=3.4->seaborn) (1.16.0)\n"
          ]
        }
      ]
    },
    {
      "cell_type": "code",
      "metadata": {
        "id": "wMpdDWhPMSS7"
      },
      "source": [
        "import pandas as pd\n",
        "import numpy as np\n",
        "import matplotlib.pyplot as plt\n",
        "import seaborn as sns"
      ],
      "execution_count": 2,
      "outputs": []
    },
    {
      "cell_type": "code",
      "metadata": {
        "id": "bBRl7VGfALex"
      },
      "source": [
        "!mkdir data"
      ],
      "execution_count": 3,
      "outputs": []
    },
    {
      "cell_type": "code",
      "metadata": {
        "id": "YR1uTokC8Wzi",
        "outputId": "5320cc86-33a6-4c5e-ffbb-94310e146204",
        "colab": {
          "base_uri": "https://localhost:8080/"
        }
      },
      "source": [
        "import gdown\n",
        "\n",
        "urls = ['https://drive.google.com/uc?export=download&id=1GiEi6LVHBAAX4IWVA2gRH1gJZ1vLYghG', # chicago_train_data  https://drive.google.com/file/d/1GiEi6LVHBAAX4IWVA2gRH1gJZ1vLYghG/view?usp=sharing\n",
        "        'https://drive.google.com/uc?export=download&id=1LIK0YFER5ve9Wn7Uap4Zb6f5pXcAExZ-', # train_days   https://drive.google.com/file/d/1LIK0YFER5ve9Wn7Uap4Zb6f5pXcAExZ-/view?usp=sharing\n",
        "        'https://drive.google.com/uc?export=download&id=18pIOZQXBOSwT-t69icoGZgZh-kUUFMrN', # extra data chicago https://drive.google.com/file/d/18pIOZQXBOSwT-t69icoGZgZh-kUUFMrN/view?usp=sharing\n",
        "        'https://drive.google.com/uc?export=download&id=13ofbMM3hiY44MlHmWWQw9_6WGGoV4J4o', # chichago_gas_prices https://drive.google.com/file/d/13ofbMM3hiY44MlHmWWQw9_6WGGoV4J4o/view?usp=sharing\n",
        "        'https://drive.google.com/uc?export=download&id=1Zd_v6ufxJ8FEHSVgq9jKQbpPu5dW1rFX' # https://drive.google.com/file/d/1Zd_v6ufxJ8FEHSVgq9jKQbpPu5dW1rFX/view?usp=sharing\n",
        "        ]\n",
        "outputs = ['chicago_train_data.csv','train_days.csv' ,\n",
        "           'extra_data_chicago.csv','chicago_gas_prices.csv',\n",
        "           'lag_14_data.csv']\n",
        "for url,output in zip(urls,outputs):\n",
        "  gdown.download(url, f'data/{output}', quiet=False)"
      ],
      "execution_count": 4,
      "outputs": [
        {
          "output_type": "stream",
          "name": "stderr",
          "text": [
            "Downloading...\n",
            "From: https://drive.google.com/uc?export=download&id=1GiEi6LVHBAAX4IWVA2gRH1gJZ1vLYghG\n",
            "To: /content/data/chicago_train_data.csv\n",
            "100%|██████████| 38.2M/38.2M [00:00<00:00, 112MB/s]\n",
            "Downloading...\n",
            "From: https://drive.google.com/uc?export=download&id=1LIK0YFER5ve9Wn7Uap4Zb6f5pXcAExZ-\n",
            "To: /content/data/train_days.csv\n",
            "100%|██████████| 107k/107k [00:00<00:00, 23.9MB/s]\n",
            "Downloading...\n",
            "From: https://drive.google.com/uc?export=download&id=18pIOZQXBOSwT-t69icoGZgZh-kUUFMrN\n",
            "To: /content/data/extra_data_chicago.csv\n",
            "100%|██████████| 1.32M/1.32M [00:00<00:00, 129MB/s]\n",
            "Downloading...\n",
            "From: https://drive.google.com/uc?export=download&id=13ofbMM3hiY44MlHmWWQw9_6WGGoV4J4o\n",
            "To: /content/data/chicago_gas_prices.csv\n",
            "100%|██████████| 14.2k/14.2k [00:00<00:00, 26.9MB/s]\n",
            "Downloading...\n",
            "From: https://drive.google.com/uc?export=download&id=1Zd_v6ufxJ8FEHSVgq9jKQbpPu5dW1rFX\n",
            "To: /content/data/lag_14_data.csv\n",
            "100%|██████████| 4.25M/4.25M [00:00<00:00, 76.4MB/s]\n"
          ]
        }
      ]
    },
    {
      "cell_type": "code",
      "metadata": {
        "id": "tbt7GzUNOT3O"
      },
      "source": [
        "df = pd.read_csv('data/chicago_train_data.csv', parse_dates=True, index_col=2)\n",
        "train_days = pd.read_csv('data/train_days.csv',index_col=1, parse_dates=True)\n",
        "extra_data = pd.read_csv('data/extra_data_chicago.csv',index_col=0, parse_dates=True)"
      ],
      "execution_count": 5,
      "outputs": []
    },
    {
      "cell_type": "code",
      "metadata": {
        "id": "0MCGdyjEP-wp"
      },
      "source": [],
      "execution_count": 5,
      "outputs": []
    },
    {
      "cell_type": "code",
      "metadata": {
        "id": "Ijm0t723NBna"
      },
      "source": [],
      "execution_count": 5,
      "outputs": []
    },
    {
      "cell_type": "code",
      "metadata": {
        "id": "q2cc8VZq7MZf"
      },
      "source": [],
      "execution_count": 5,
      "outputs": []
    },
    {
      "cell_type": "code",
      "metadata": {
        "id": "fRF2fDV5kRAu"
      },
      "source": [],
      "execution_count": 5,
      "outputs": []
    },
    {
      "cell_type": "code",
      "metadata": {
        "id": "q9YGmxp0hDWS"
      },
      "source": [],
      "execution_count": 5,
      "outputs": []
    },
    {
      "cell_type": "code",
      "metadata": {
        "id": "v7korxBsuOrx"
      },
      "source": [],
      "execution_count": 5,
      "outputs": []
    },
    {
      "cell_type": "code",
      "metadata": {
        "id": "hp1tg2AqN3cm"
      },
      "source": [],
      "execution_count": 5,
      "outputs": []
    },
    {
      "cell_type": "code",
      "metadata": {
        "id": "8N2xD6cik9fP"
      },
      "source": [],
      "execution_count": 5,
      "outputs": []
    },
    {
      "cell_type": "code",
      "metadata": {
        "id": "led0mrEX8SYm"
      },
      "source": [],
      "execution_count": 5,
      "outputs": []
    },
    {
      "cell_type": "code",
      "source": [],
      "metadata": {
        "id": "bvjhiSR-en7W"
      },
      "execution_count": 5,
      "outputs": []
    },
    {
      "cell_type": "code",
      "source": [],
      "metadata": {
        "id": "6ALEHLUJezuK"
      },
      "execution_count": 5,
      "outputs": []
    },
    {
      "cell_type": "code",
      "metadata": {
        "id": "RZv06yH98doW"
      },
      "source": [],
      "execution_count": 5,
      "outputs": []
    },
    {
      "cell_type": "code",
      "source": [],
      "metadata": {
        "id": "jyVsQwMHfB4W"
      },
      "execution_count": 5,
      "outputs": []
    },
    {
      "cell_type": "markdown",
      "source": [
        "# Visualization of continuous variables"
      ],
      "metadata": {
        "id": "lARq6lHAmnBx"
      }
    },
    {
      "cell_type": "markdown",
      "metadata": {
        "id": "jTon0wOu8owK"
      },
      "source": [
        "## Box Plots, Violin Plots, Histograms and Density Plots"
      ]
    },
    {
      "cell_type": "code",
      "metadata": {
        "id": "huf3C69Bl8oO"
      },
      "source": [
        "sns.set_style(\"darkgrid\") # Others whitegrid, white, dark, ticks https://www.python-graph-gallery.com/104-seaborn-themes"
      ],
      "execution_count": 6,
      "outputs": []
    },
    {
      "cell_type": "code",
      "source": [],
      "metadata": {
        "id": "jgz4EE2qhXQ-"
      },
      "execution_count": 6,
      "outputs": []
    },
    {
      "cell_type": "code",
      "source": [],
      "metadata": {
        "id": "DJva-glMgOSI"
      },
      "execution_count": 6,
      "outputs": []
    },
    {
      "cell_type": "code",
      "source": [],
      "metadata": {
        "id": "htPkUyH-hXE1"
      },
      "execution_count": 6,
      "outputs": []
    },
    {
      "cell_type": "code",
      "source": [],
      "metadata": {
        "id": "Nl-gH_qahWtm"
      },
      "execution_count": 6,
      "outputs": []
    },
    {
      "cell_type": "code",
      "metadata": {
        "id": "q3O5hTiFNKWG",
        "outputId": "965d0868-8216-40a2-82b2-78b27155f9f5",
        "colab": {
          "base_uri": "https://localhost:8080/",
          "height": 682
        }
      },
      "source": [
        "fig, axs = plt.subplots(2,2, figsize=(12,8)) #create grid\n"
      ],
      "execution_count": 7,
      "outputs": [
        {
          "output_type": "display_data",
          "data": {
            "text/plain": [
              "<Figure size 1200x800 with 4 Axes>"
            ],
            "image/png": "[encoded data removed]"
          },
          "metadata": {}
        }
      ]
    },
    {
      "cell_type": "markdown",
      "metadata": {
        "id": "XrERHOVPuyCB"
      },
      "source": [
        "### Increasing visualizations with facets, colors and shapes"
      ]
    },
    {
      "cell_type": "code",
      "source": [],
      "metadata": {
        "id": "9DMXT1q-iKP-"
      },
      "execution_count": 7,
      "outputs": []
    },
    {
      "cell_type": "markdown",
      "metadata": {
        "id": "MRJzBhV6wpU1"
      },
      "source": [
        "## Scatter plots\n",
        "\n"
      ]
    },
    {
      "cell_type": "code",
      "metadata": {
        "id": "AZ-dQntyPpIC"
      },
      "source": [],
      "execution_count": 7,
      "outputs": []
    },
    {
      "cell_type": "code",
      "metadata": {
        "id": "UQSwWydwzyT3"
      },
      "source": [],
      "execution_count": 7,
      "outputs": []
    },
    {
      "cell_type": "code",
      "source": [],
      "metadata": {
        "id": "3hlMhzJhlwaR"
      },
      "execution_count": 7,
      "outputs": []
    },
    {
      "cell_type": "markdown",
      "metadata": {
        "id": "5SxlZZyh1-Gu"
      },
      "source": [
        "## Heatmaps"
      ]
    },
    {
      "cell_type": "markdown",
      "metadata": {
        "id": "Yc1oOXjh3TBA"
      },
      "source": [
        "We create an indicator variable for weekday values that are less than 10,000 passengers"
      ]
    },
    {
      "cell_type": "code",
      "metadata": {
        "id": "CO2a1hHqYd_A"
      },
      "source": [],
      "execution_count": 7,
      "outputs": []
    },
    {
      "cell_type": "code",
      "metadata": {
        "id": "dgLq2UsJZQPo"
      },
      "source": [],
      "execution_count": 7,
      "outputs": []
    },
    {
      "cell_type": "markdown",
      "metadata": {
        "id": "EOz7DCiU6Ai2"
      },
      "source": [
        "How can we create the source table for creating a heatmap?"
      ]
    },
    {
      "cell_type": "code",
      "metadata": {
        "id": "Mc0aOImIfQmv"
      },
      "source": [],
      "execution_count": 7,
      "outputs": []
    },
    {
      "cell_type": "code",
      "metadata": {
        "id": "ErF1X08R5dqG"
      },
      "source": [],
      "execution_count": 7,
      "outputs": []
    },
    {
      "cell_type": "code",
      "metadata": {
        "id": "9NqEjlzOjb6Y"
      },
      "source": [],
      "execution_count": 7,
      "outputs": []
    },
    {
      "cell_type": "markdown",
      "metadata": {
        "id": "EqyejjF8-ZkK"
      },
      "source": [
        "Now that we know the effect of holidays in the dataset, we can remove those days.\n",
        "\n",
        "For that we use the **extra\\_data** dataset that we loaded at the beginning."
      ]
    },
    {
      "cell_type": "code",
      "metadata": {
        "id": "tepVpcNPnR34"
      },
      "source": [
        "common_holidays = ['USNewYearsDay', 'Jan02_Mon_Fri', 'USMLKingsBirthday',\n",
        "    'USPresidentsDay', 'USMemorialDay', 'USIndependenceDay',\n",
        "    'Jul03_Mon_Fri', 'Jul05_Mon_Fri', 'USLaborDay', 'USThanksgivingDay',\n",
        "    'Day_after_Thx', 'ChristmasEve', 'USChristmasDay', 'Dec26_wkday',\n",
        "    'Dec31_Mon_Fri']"
      ],
      "execution_count": 8,
      "outputs": []
    },
    {
      "cell_type": "code",
      "source": [
        "extra_data.head(3)"
      ],
      "metadata": {
        "id": "_Ifsv2JJCSH4",
        "outputId": "99966046-f66d-4ac2-866c-d961dfd66631",
        "colab": {
          "base_uri": "https://localhost:8080/",
          "height": 276
        }
      },
      "execution_count": 9,
      "outputs": [
        {
          "output_type": "execute_result",
          "data": {
            "text/plain": [
              "            Advent1st  Advent2nd  Advent3rd  Advent4th  AllSaints  AllSouls  \\\n",
              "date                                                                          \n",
              "2001-01-22          0          0          0          0          0         0   \n",
              "2001-01-23          0          0          0          0          0         0   \n",
              "2001-01-24          0          0          0          0          0         0   \n",
              "\n",
              "            Annunciation  Ascension  AshWednesday  AssumptionOfMary  ...  \\\n",
              "date                                                                 ...   \n",
              "2001-01-22             0          0             0                 0  ...   \n",
              "2001-01-23             0          0             0                 0  ...   \n",
              "2001-01-24             0          0             0                 0  ...   \n",
              "\n",
              "            Bulls_Away  Bulls_Home  Bears_Away  Bears_Home  WhiteSox_Away  \\\n",
              "date                                                                        \n",
              "2001-01-22           0           0           0           0              0   \n",
              "2001-01-23           0           1           0           0              0   \n",
              "2001-01-24           1           0           0           0              0   \n",
              "\n",
              "            WhiteSox_Home  Cubs_Away  Cubs_Home  l14_gas_price  \\\n",
              "date                                                             \n",
              "2001-01-22              0          0          0          1.516   \n",
              "2001-01-23              0          0          0          1.516   \n",
              "2001-01-24              0          0          0          1.516   \n",
              "\n",
              "            l30_unemployment_rate  \n",
              "date                               \n",
              "2001-01-22                    NaN  \n",
              "2001-01-23                    NaN  \n",
              "2001-01-24                    NaN  \n",
              "\n",
              "[3 rows x 85 columns]"
            ],
            "text/html": [
              "\n",
              "  <div id=\"df-f3f482ea-c53d-49d7-b98f-4b06bc9eee6e\" class=\"colab-df-container\">\n",
              "    <div>\n",
              "<style scoped>\n",
              "    .dataframe tbody tr th:only-of-type {\n",
              "        vertical-align: middle;\n",
              "    }\n",
              "\n",
              "    .dataframe tbody tr th {\n",
              "        vertical-align: top;\n",
              "    }\n",
              "\n",
              "    .dataframe thead th {\n",
              "        text-align: right;\n",
              "    }\n",
              "</style>\n",
              "<table border=\"1\" class=\"dataframe\">\n",
              "  <thead>\n",
              "    <tr style=\"text-align: right;\">\n",
              "      <th></th>\n",
              "      <th>Advent1st</th>\n",
              "      <th>Advent2nd</th>\n",
              "      <th>Advent3rd</th>\n",
              "      <th>Advent4th</th>\n",
              "      <th>AllSaints</th>\n",
              "      <th>AllSouls</th>\n",
              "      <th>Annunciation</th>\n",
              "      <th>Ascension</th>\n",
              "      <th>AshWednesday</th>\n",
              "      <th>AssumptionOfMary</th>\n",
              "      <th>...</th>\n",
              "      <th>Bulls_Away</th>\n",
              "      <th>Bulls_Home</th>\n",
              "      <th>Bears_Away</th>\n",
              "      <th>Bears_Home</th>\n",
              "      <th>WhiteSox_Away</th>\n",
              "      <th>WhiteSox_Home</th>\n",
              "      <th>Cubs_Away</th>\n",
              "      <th>Cubs_Home</th>\n",
              "      <th>l14_gas_price</th>\n",
              "      <th>l30_unemployment_rate</th>\n",
              "    </tr>\n",
              "    <tr>\n",
              "      <th>date</th>\n",
              "      <th></th>\n",
              "      <th></th>\n",
              "      <th></th>\n",
              "      <th></th>\n",
              "      <th></th>\n",
              "      <th></th>\n",
              "      <th></th>\n",
              "      <th></th>\n",
              "      <th></th>\n",
              "      <th></th>\n",
              "      <th></th>\n",
              "      <th></th>\n",
              "      <th></th>\n",
              "      <th></th>\n",
              "      <th></th>\n",
              "      <th></th>\n",
              "      <th></th>\n",
              "      <th></th>\n",
              "      <th></th>\n",
              "      <th></th>\n",
              "      <th></th>\n",
              "    </tr>\n",
              "  </thead>\n",
              "  <tbody>\n",
              "    <tr>\n",
              "      <th>2001-01-22</th>\n",
              "      <td>0</td>\n",
              "      <td>0</td>\n",
              "      <td>0</td>\n",
              "      <td>0</td>\n",
              "      <td>0</td>\n",
              "      <td>0</td>\n",
              "      <td>0</td>\n",
              "      <td>0</td>\n",
              "      <td>0</td>\n",
              "      <td>0</td>\n",
              "      <td>...</td>\n",
              "      <td>0</td>\n",
              "      <td>0</td>\n",
              "      <td>0</td>\n",
              "      <td>0</td>\n",
              "      <td>0</td>\n",
              "      <td>0</td>\n",
              "      <td>0</td>\n",
              "      <td>0</td>\n",
              "      <td>1.516</td>\n",
              "      <td>NaN</td>\n",
              "    </tr>\n",
              "    <tr>\n",
              "      <th>2001-01-23</th>\n",
              "      <td>0</td>\n",
              "      <td>0</td>\n",
              "      <td>0</td>\n",
              "      <td>0</td>\n",
              "      <td>0</td>\n",
              "      <td>0</td>\n",
              "      <td>0</td>\n",
              "      <td>0</td>\n",
              "      <td>0</td>\n",
              "      <td>0</td>\n",
              "      <td>...</td>\n",
              "      <td>0</td>\n",
              "      <td>1</td>\n",
              "      <td>0</td>\n",
              "      <td>0</td>\n",
              "      <td>0</td>\n",
              "      <td>0</td>\n",
              "      <td>0</td>\n",
              "      <td>0</td>\n",
              "      <td>1.516</td>\n",
              "      <td>NaN</td>\n",
              "    </tr>\n",
              "    <tr>\n",
              "      <th>2001-01-24</th>\n",
              "      <td>0</td>\n",
              "      <td>0</td>\n",
              "      <td>0</td>\n",
              "      <td>0</td>\n",
              "      <td>0</td>\n",
              "      <td>0</td>\n",
              "      <td>0</td>\n",
              "      <td>0</td>\n",
              "      <td>0</td>\n",
              "      <td>0</td>\n",
              "      <td>...</td>\n",
              "      <td>1</td>\n",
              "      <td>0</td>\n",
              "      <td>0</td>\n",
              "      <td>0</td>\n",
              "      <td>0</td>\n",
              "      <td>0</td>\n",
              "      <td>0</td>\n",
              "      <td>0</td>\n",
              "      <td>1.516</td>\n",
              "      <td>NaN</td>\n",
              "    </tr>\n",
              "  </tbody>\n",
              "</table>\n",
              "<p>3 rows × 85 columns</p>\n",
              "</div>\n",
              "    <div class=\"colab-df-buttons\">\n",
              "\n",
              "  <div class=\"colab-df-container\">\n",
              "    <button class=\"colab-df-convert\" onclick=\"convertToInteractive('df-f3f482ea-c53d-49d7-b98f-4b06bc9eee6e')\"\n",
              "            title=\"Convert this dataframe to an interactive table.\"\n",
              "            style=\"display:none;\">\n",
              "\n",
              "  <svg xmlns=\"http://www.w3.org/2000/svg\" height=\"24px\" viewBox=\"0 -960 960 960\">\n",
              "    <path d=\"M120-120v-720h720v720H120Zm60-500h600v-160H180v160Zm220 220h160v-160H400v160Zm0 220h160v-160H400v160ZM180-400h160v-160H180v160Zm440 0h160v-160H620v160ZM180-180h160v-160H180v160Zm440 0h160v-160H620v160Z\"/>\n",
              "  </svg>\n",
              "    </button>\n",
              "\n",
              "  <style>\n",
              "    .colab-df-container {\n",
              "      display:flex;\n",
              "      gap: 12px;\n",
              "    }\n",
              "\n",
              "    .colab-df-convert {\n",
              "      background-color: #E8F0FE;\n",
              "      border: none;\n",
              "      border-radius: 50%;\n",
              "      cursor: pointer;\n",
              "      display: none;\n",
              "      fill: #1967D2;\n",
              "      height: 32px;\n",
              "      padding: 0 0 0 0;\n",
              "      width: 32px;\n",
              "    }\n",
              "\n",
              "    .colab-df-convert:hover {\n",
              "      background-color: #E2EBFA;\n",
              "      box-shadow: 0px 1px 2px rgba(60, 64, 67, 0.3), 0px 1px 3px 1px rgba(60, 64, 67, 0.15);\n",
              "      fill: #174EA6;\n",
              "    }\n",
              "\n",
              "    .colab-df-buttons div {\n",
              "      margin-bottom: 4px;\n",
              "    }\n",
              "\n",
              "    [theme=dark] .colab-df-convert {\n",
              "      background-color: #3B4455;\n",
              "      fill: #D2E3FC;\n",
              "    }\n",
              "\n",
              "    [theme=dark] .colab-df-convert:hover {\n",
              "      background-color: #434B5C;\n",
              "      box-shadow: 0px 1px 3px 1px rgba(0, 0, 0, 0.15);\n",
              "      filter: drop-shadow(0px 1px 2px rgba(0, 0, 0, 0.3));\n",
              "      fill: #FFFFFF;\n",
              "    }\n",
              "  </style>\n",
              "\n",
              "    <script>\n",
              "      const buttonEl =\n",
              "        document.querySelector('#df-f3f482ea-c53d-49d7-b98f-4b06bc9eee6e button.colab-df-convert');\n",
              "      buttonEl.style.display =\n",
              "        google.colab.kernel.accessAllowed ? 'block' : 'none';\n",
              "\n",
              "      async function convertToInteractive(key) {\n",
              "        const element = document.querySelector('#df-f3f482ea-c53d-49d7-b98f-4b06bc9eee6e');\n",
              "        const dataTable =\n",
              "          await google.colab.kernel.invokeFunction('convertToInteractive',\n",
              "                                                    [key], {});\n",
              "        if (!dataTable) return;\n",
              "\n",
              "        const docLinkHtml = 'Like what you see? Visit the ' +\n",
              "          '<a target=\"_blank\" href=https://colab.research.google.com/notebooks/data_table.ipynb>data table notebook</a>'\n",
              "          + ' to learn more about interactive tables.';\n",
              "        element.innerHTML = '';\n",
              "        dataTable['output_type'] = 'display_data';\n",
              "        await google.colab.output.renderOutput(dataTable, element);\n",
              "        const docLink = document.createElement('div');\n",
              "        docLink.innerHTML = docLinkHtml;\n",
              "        element.appendChild(docLink);\n",
              "      }\n",
              "    </script>\n",
              "  </div>\n",
              "\n",
              "\n",
              "<div id=\"df-eead5efd-2332-4a90-916c-c715e4fb831e\">\n",
              "  <button class=\"colab-df-quickchart\" onclick=\"quickchart('df-eead5efd-2332-4a90-916c-c715e4fb831e')\"\n",
              "            title=\"Suggest charts\"\n",
              "            style=\"display:none;\">\n",
              "\n",
              "<svg xmlns=\"http://www.w3.org/2000/svg\" height=\"24px\"viewBox=\"0 0 24 24\"\n",
              "     width=\"24px\">\n",
              "    <g>\n",
              "        <path d=\"M19 3H5c-1.1 0-2 .9-2 2v14c0 1.1.9 2 2 2h14c1.1 0 2-.9 2-2V5c0-1.1-.9-2-2-2zM9 17H7v-7h2v7zm4 0h-2V7h2v10zm4 0h-2v-4h2v4z\"/>\n",
              "    </g>\n",
              "</svg>\n",
              "  </button>\n",
              "\n",
              "<style>\n",
              "  .colab-df-quickchart {\n",
              "      --bg-color: #E8F0FE;\n",
              "      --fill-color: #1967D2;\n",
              "      --hover-bg-color: #E2EBFA;\n",
              "      --hover-fill-color: #174EA6;\n",
              "      --disabled-fill-color: #AAA;\n",
              "      --disabled-bg-color: #DDD;\n",
              "  }\n",
              "\n",
              "  [theme=dark] .colab-df-quickchart {\n",
              "      --bg-color: #3B4455;\n",
              "      --fill-color: #D2E3FC;\n",
              "      --hover-bg-color: #434B5C;\n",
              "      --hover-fill-color: #FFFFFF;\n",
              "      --disabled-bg-color: #3B4455;\n",
              "      --disabled-fill-color: #666;\n",
              "  }\n",
              "\n",
              "  .colab-df-quickchart {\n",
              "    background-color: var(--bg-color);\n",
              "    border: none;\n",
              "    border-radius: 50%;\n",
              "    cursor: pointer;\n",
              "    display: none;\n",
              "    fill: var(--fill-color);\n",
              "    height: 32px;\n",
              "    padding: 0;\n",
              "    width: 32px;\n",
              "  }\n",
              "\n",
              "  .colab-df-quickchart:hover {\n",
              "    background-color: var(--hover-bg-color);\n",
              "    box-shadow: 0 1px 2px rgba(60, 64, 67, 0.3), 0 1px 3px 1px rgba(60, 64, 67, 0.15);\n",
              "    fill: var(--button-hover-fill-color);\n",
              "  }\n",
              "\n",
              "  .colab-df-quickchart-complete:disabled,\n",
              "  .colab-df-quickchart-complete:disabled:hover {\n",
              "    background-color: var(--disabled-bg-color);\n",
              "    fill: var(--disabled-fill-color);\n",
              "    box-shadow: none;\n",
              "  }\n",
              "\n",
              "  .colab-df-spinner {\n",
              "    border: 2px solid var(--fill-color);\n",
              "    border-color: transparent;\n",
              "    border-bottom-color: var(--fill-color);\n",
              "    animation:\n",
              "      spin 1s steps(1) infinite;\n",
              "  }\n",
              "\n",
              "  @keyframes spin {\n",
              "    0% {\n",
              "      border-color: transparent;\n",
              "      border-bottom-color: var(--fill-color);\n",
              "      border-left-color: var(--fill-color);\n",
              "    }\n",
              "    20% {\n",
              "      border-color: transparent;\n",
              "      border-left-color: var(--fill-color);\n",
              "      border-top-color: var(--fill-color);\n",
              "    }\n",
              "    30% {\n",
              "      border-color: transparent;\n",
              "      border-left-color: var(--fill-color);\n",
              "      border-top-color: var(--fill-color);\n",
              "      border-right-color: var(--fill-color);\n",
              "    }\n",
              "    40% {\n",
              "      border-color: transparent;\n",
              "      border-right-color: var(--fill-color);\n",
              "      border-top-color: var(--fill-color);\n",
              "    }\n",
              "    60% {\n",
              "      border-color: transparent;\n",
              "      border-right-color: var(--fill-color);\n",
              "    }\n",
              "    80% {\n",
              "      border-color: transparent;\n",
              "      border-right-color: var(--fill-color);\n",
              "      border-bottom-color: var(--fill-color);\n",
              "    }\n",
              "    90% {\n",
              "      border-color: transparent;\n",
              "      border-bottom-color: var(--fill-color);\n",
              "    }\n",
              "  }\n",
              "</style>\n",
              "\n",
              "  <script>\n",
              "    async function quickchart(key) {\n",
              "      const quickchartButtonEl =\n",
              "        document.querySelector('#' + key + ' button');\n",
              "      quickchartButtonEl.disabled = true;  // To prevent multiple clicks.\n",
              "      quickchartButtonEl.classList.add('colab-df-spinner');\n",
              "      try {\n",
              "        const charts = await google.colab.kernel.invokeFunction(\n",
              "            'suggestCharts', [key], {});\n",
              "      } catch (error) {\n",
              "        console.error('Error during call to suggestCharts:', error);\n",
              "      }\n",
              "      quickchartButtonEl.classList.remove('colab-df-spinner');\n",
              "      quickchartButtonEl.classList.add('colab-df-quickchart-complete');\n",
              "    }\n",
              "    (() => {\n",
              "      let quickchartButtonEl =\n",
              "        document.querySelector('#df-eead5efd-2332-4a90-916c-c715e4fb831e button');\n",
              "      quickchartButtonEl.style.display =\n",
              "        google.colab.kernel.accessAllowed ? 'block' : 'none';\n",
              "    })();\n",
              "  </script>\n",
              "</div>\n",
              "\n",
              "    </div>\n",
              "  </div>\n"
            ],
            "application/vnd.google.colaboratory.intrinsic+json": {
              "type": "dataframe",
              "variable_name": "extra_data"
            }
          },
          "metadata": {},
          "execution_count": 9
        }
      ]
    },
    {
      "cell_type": "code",
      "metadata": {
        "id": "fpWlRBzGpP3u"
      },
      "source": [
        "dates_with_holiday = (extra_data[common_holidays]==1).any(axis=1)"
      ],
      "execution_count": 10,
      "outputs": []
    },
    {
      "cell_type": "code",
      "metadata": {
        "id": "S8u-x0BAtRdD"
      },
      "source": [],
      "execution_count": 10,
      "outputs": []
    },
    {
      "cell_type": "code",
      "metadata": {
        "id": "cAwpzZ5pscHT"
      },
      "source": [],
      "execution_count": 10,
      "outputs": []
    },
    {
      "cell_type": "code",
      "metadata": {
        "id": "NicHzNkf4LiL"
      },
      "source": [],
      "execution_count": 10,
      "outputs": []
    },
    {
      "cell_type": "markdown",
      "metadata": {
        "id": "4Egk-8g5_eob"
      },
      "source": [
        "We filter the data set with days that are not holidays and that do not have a holiday with a delay of two weeks."
      ]
    },
    {
      "cell_type": "code",
      "metadata": {
        "id": "WpoGfeNP14U7"
      },
      "source": [],
      "execution_count": 10,
      "outputs": []
    },
    {
      "cell_type": "code",
      "source": [],
      "metadata": {
        "id": "X-HPMCcdvt3Z"
      },
      "execution_count": 10,
      "outputs": []
    },
    {
      "cell_type": "markdown",
      "metadata": {
        "id": "NfXOx5Zn_1yZ"
      },
      "source": [
        "## Correlation Matrix Plots"
      ]
    },
    {
      "cell_type": "markdown",
      "metadata": {
        "id": "0SdKbeDiFxFw"
      },
      "source": [
        "We add the characteristics we created for our data subset containing only the Clark / Lake station."
      ]
    },
    {
      "cell_type": "code",
      "metadata": {
        "id": "SuFWG3hZ-WG8",
        "outputId": "b75e9a0c-9c8c-4ad0-ef30-b21b2aed326d",
        "colab": {
          "base_uri": "https://localhost:8080/",
          "height": 455
        }
      },
      "source": [
        "df['part_of_the_week']=df.index.weekday.map(lambda x: 'Weekday' if x<5 else 'Weekend') # find if it is weekday or weekend\n",
        "df['two_week_lag_rides'] = df.groupby('stationname')['rides'].shift(periods = 14, fill_value = 0)\n",
        "\n",
        "df"
      ],
      "execution_count": 18,
      "outputs": [
        {
          "output_type": "execute_result",
          "data": {
            "text/plain": [
              "            station_id        stationname daytype  rides part_of_the_week  \\\n",
              "date                                                                        \n",
              "2017-12-22       41280     Jefferson Park       W   6104          Weekday   \n",
              "2017-12-18       41000   Cermak-Chinatown       W   3636          Weekday   \n",
              "2017-12-02       40280       Central-Lake       A   1270          Weekend   \n",
              "2017-12-19       40140    Dempster-Skokie       W   1759          Weekday   \n",
              "2017-12-03       40690           Dempster       U    499          Weekend   \n",
              "...                ...                ...     ...    ...              ...   \n",
              "2020-11-26       41700  Washington/Wabash       U    601          Weekday   \n",
              "2020-11-27       41700  Washington/Wabash       W   2093          Weekday   \n",
              "2020-11-28       41700  Washington/Wabash       A   1782          Weekend   \n",
              "2020-11-29       41700  Washington/Wabash       U   1222          Weekend   \n",
              "2020-11-30       41700  Washington/Wabash       W   2041          Weekday   \n",
              "\n",
              "           holiday  two_week_lag_rides  \n",
              "date                                    \n",
              "2017-12-22     NaN                   0  \n",
              "2017-12-18     NaN                   0  \n",
              "2017-12-02     NaN                   0  \n",
              "2017-12-19     NaN                   0  \n",
              "2017-12-03     NaN                   0  \n",
              "...            ...                 ...  \n",
              "2020-11-26     NaN                2424  \n",
              "2020-11-27     NaN                2567  \n",
              "2020-11-28     NaN                1424  \n",
              "2020-11-29     NaN                1013  \n",
              "2020-11-30     NaN                2238  \n",
              "\n",
              "[1036763 rows x 7 columns]"
            ],
            "text/html": [
              "\n",
              "  <div id=\"df-9d4b0003-3dcf-406c-925a-4faad6f2065e\" class=\"colab-df-container\">\n",
              "    <div>\n",
              "<style scoped>\n",
              "    .dataframe tbody tr th:only-of-type {\n",
              "        vertical-align: middle;\n",
              "    }\n",
              "\n",
              "    .dataframe tbody tr th {\n",
              "        vertical-align: top;\n",
              "    }\n",
              "\n",
              "    .dataframe thead th {\n",
              "        text-align: right;\n",
              "    }\n",
              "</style>\n",
              "<table border=\"1\" class=\"dataframe\">\n",
              "  <thead>\n",
              "    <tr style=\"text-align: right;\">\n",
              "      <th></th>\n",
              "      <th>station_id</th>\n",
              "      <th>stationname</th>\n",
              "      <th>daytype</th>\n",
              "      <th>rides</th>\n",
              "      <th>part_of_the_week</th>\n",
              "      <th>holiday</th>\n",
              "      <th>two_week_lag_rides</th>\n",
              "    </tr>\n",
              "    <tr>\n",
              "      <th>date</th>\n",
              "      <th></th>\n",
              "      <th></th>\n",
              "      <th></th>\n",
              "      <th></th>\n",
              "      <th></th>\n",
              "      <th></th>\n",
              "      <th></th>\n",
              "    </tr>\n",
              "  </thead>\n",
              "  <tbody>\n",
              "    <tr>\n",
              "      <th>2017-12-22</th>\n",
              "      <td>41280</td>\n",
              "      <td>Jefferson Park</td>\n",
              "      <td>W</td>\n",
              "      <td>6104</td>\n",
              "      <td>Weekday</td>\n",
              "      <td>NaN</td>\n",
              "      <td>0</td>\n",
              "    </tr>\n",
              "    <tr>\n",
              "      <th>2017-12-18</th>\n",
              "      <td>41000</td>\n",
              "      <td>Cermak-Chinatown</td>\n",
              "      <td>W</td>\n",
              "      <td>3636</td>\n",
              "      <td>Weekday</td>\n",
              "      <td>NaN</td>\n",
              "      <td>0</td>\n",
              "    </tr>\n",
              "    <tr>\n",
              "      <th>2017-12-02</th>\n",
              "      <td>40280</td>\n",
              "      <td>Central-Lake</td>\n",
              "      <td>A</td>\n",
              "      <td>1270</td>\n",
              "      <td>Weekend</td>\n",
              "      <td>NaN</td>\n",
              "      <td>0</td>\n",
              "    </tr>\n",
              "    <tr>\n",
              "      <th>2017-12-19</th>\n",
              "      <td>40140</td>\n",
              "      <td>Dempster-Skokie</td>\n",
              "      <td>W</td>\n",
              "      <td>1759</td>\n",
              "      <td>Weekday</td>\n",
              "      <td>NaN</td>\n",
              "      <td>0</td>\n",
              "    </tr>\n",
              "    <tr>\n",
              "      <th>2017-12-03</th>\n",
              "      <td>40690</td>\n",
              "      <td>Dempster</td>\n",
              "      <td>U</td>\n",
              "      <td>499</td>\n",
              "      <td>Weekend</td>\n",
              "      <td>NaN</td>\n",
              "      <td>0</td>\n",
              "    </tr>\n",
              "    <tr>\n",
              "      <th>...</th>\n",
              "      <td>...</td>\n",
              "      <td>...</td>\n",
              "      <td>...</td>\n",
              "      <td>...</td>\n",
              "      <td>...</td>\n",
              "      <td>...</td>\n",
              "      <td>...</td>\n",
              "    </tr>\n",
              "    <tr>\n",
              "      <th>2020-11-26</th>\n",
              "      <td>41700</td>\n",
              "      <td>Washington/Wabash</td>\n",
              "      <td>U</td>\n",
              "      <td>601</td>\n",
              "      <td>Weekday</td>\n",
              "      <td>NaN</td>\n",
              "      <td>2424</td>\n",
              "    </tr>\n",
              "    <tr>\n",
              "      <th>2020-11-27</th>\n",
              "      <td>41700</td>\n",
              "      <td>Washington/Wabash</td>\n",
              "      <td>W</td>\n",
              "      <td>2093</td>\n",
              "      <td>Weekday</td>\n",
              "      <td>NaN</td>\n",
              "      <td>2567</td>\n",
              "    </tr>\n",
              "    <tr>\n",
              "      <th>2020-11-28</th>\n",
              "      <td>41700</td>\n",
              "      <td>Washington/Wabash</td>\n",
              "      <td>A</td>\n",
              "      <td>1782</td>\n",
              "      <td>Weekend</td>\n",
              "      <td>NaN</td>\n",
              "      <td>1424</td>\n",
              "    </tr>\n",
              "    <tr>\n",
              "      <th>2020-11-29</th>\n",
              "      <td>41700</td>\n",
              "      <td>Washington/Wabash</td>\n",
              "      <td>U</td>\n",
              "      <td>1222</td>\n",
              "      <td>Weekend</td>\n",
              "      <td>NaN</td>\n",
              "      <td>1013</td>\n",
              "    </tr>\n",
              "    <tr>\n",
              "      <th>2020-11-30</th>\n",
              "      <td>41700</td>\n",
              "      <td>Washington/Wabash</td>\n",
              "      <td>W</td>\n",
              "      <td>2041</td>\n",
              "      <td>Weekday</td>\n",
              "      <td>NaN</td>\n",
              "      <td>2238</td>\n",
              "    </tr>\n",
              "  </tbody>\n",
              "</table>\n",
              "<p>1036763 rows × 7 columns</p>\n",
              "</div>\n",
              "    <div class=\"colab-df-buttons\">\n",
              "\n",
              "  <div class=\"colab-df-container\">\n",
              "    <button class=\"colab-df-convert\" onclick=\"convertToInteractive('df-9d4b0003-3dcf-406c-925a-4faad6f2065e')\"\n",
              "            title=\"Convert this dataframe to an interactive table.\"\n",
              "            style=\"display:none;\">\n",
              "\n",
              "  <svg xmlns=\"http://www.w3.org/2000/svg\" height=\"24px\" viewBox=\"0 -960 960 960\">\n",
              "    <path d=\"M120-120v-720h720v720H120Zm60-500h600v-160H180v160Zm220 220h160v-160H400v160Zm0 220h160v-160H400v160ZM180-400h160v-160H180v160Zm440 0h160v-160H620v160ZM180-180h160v-160H180v160Zm440 0h160v-160H620v160Z\"/>\n",
              "  </svg>\n",
              "    </button>\n",
              "\n",
              "  <style>\n",
              "    .colab-df-container {\n",
              "      display:flex;\n",
              "      gap: 12px;\n",
              "    }\n",
              "\n",
              "    .colab-df-convert {\n",
              "      background-color: #E8F0FE;\n",
              "      border: none;\n",
              "      border-radius: 50%;\n",
              "      cursor: pointer;\n",
              "      display: none;\n",
              "      fill: #1967D2;\n",
              "      height: 32px;\n",
              "      padding: 0 0 0 0;\n",
              "      width: 32px;\n",
              "    }\n",
              "\n",
              "    .colab-df-convert:hover {\n",
              "      background-color: #E2EBFA;\n",
              "      box-shadow: 0px 1px 2px rgba(60, 64, 67, 0.3), 0px 1px 3px 1px rgba(60, 64, 67, 0.15);\n",
              "      fill: #174EA6;\n",
              "    }\n",
              "\n",
              "    .colab-df-buttons div {\n",
              "      margin-bottom: 4px;\n",
              "    }\n",
              "\n",
              "    [theme=dark] .colab-df-convert {\n",
              "      background-color: #3B4455;\n",
              "      fill: #D2E3FC;\n",
              "    }\n",
              "\n",
              "    [theme=dark] .colab-df-convert:hover {\n",
              "      background-color: #434B5C;\n",
              "      box-shadow: 0px 1px 3px 1px rgba(0, 0, 0, 0.15);\n",
              "      filter: drop-shadow(0px 1px 2px rgba(0, 0, 0, 0.3));\n",
              "      fill: #FFFFFF;\n",
              "    }\n",
              "  </style>\n",
              "\n",
              "    <script>\n",
              "      const buttonEl =\n",
              "        document.querySelector('#df-9d4b0003-3dcf-406c-925a-4faad6f2065e button.colab-df-convert');\n",
              "      buttonEl.style.display =\n",
              "        google.colab.kernel.accessAllowed ? 'block' : 'none';\n",
              "\n",
              "      async function convertToInteractive(key) {\n",
              "        const element = document.querySelector('#df-9d4b0003-3dcf-406c-925a-4faad6f2065e');\n",
              "        const dataTable =\n",
              "          await google.colab.kernel.invokeFunction('convertToInteractive',\n",
              "                                                    [key], {});\n",
              "        if (!dataTable) return;\n",
              "\n",
              "        const docLinkHtml = 'Like what you see? Visit the ' +\n",
              "          '<a target=\"_blank\" href=https://colab.research.google.com/notebooks/data_table.ipynb>data table notebook</a>'\n",
              "          + ' to learn more about interactive tables.';\n",
              "        element.innerHTML = '';\n",
              "        dataTable['output_type'] = 'display_data';\n",
              "        await google.colab.output.renderOutput(dataTable, element);\n",
              "        const docLink = document.createElement('div');\n",
              "        docLink.innerHTML = docLinkHtml;\n",
              "        element.appendChild(docLink);\n",
              "      }\n",
              "    </script>\n",
              "  </div>\n",
              "\n",
              "\n",
              "<div id=\"df-1ff6d229-468e-4b1f-bc76-2effad987754\">\n",
              "  <button class=\"colab-df-quickchart\" onclick=\"quickchart('df-1ff6d229-468e-4b1f-bc76-2effad987754')\"\n",
              "            title=\"Suggest charts\"\n",
              "            style=\"display:none;\">\n",
              "\n",
              "<svg xmlns=\"http://www.w3.org/2000/svg\" height=\"24px\"viewBox=\"0 0 24 24\"\n",
              "     width=\"24px\">\n",
              "    <g>\n",
              "        <path d=\"M19 3H5c-1.1 0-2 .9-2 2v14c0 1.1.9 2 2 2h14c1.1 0 2-.9 2-2V5c0-1.1-.9-2-2-2zM9 17H7v-7h2v7zm4 0h-2V7h2v10zm4 0h-2v-4h2v4z\"/>\n",
              "    </g>\n",
              "</svg>\n",
              "  </button>\n",
              "\n",
              "<style>\n",
              "  .colab-df-quickchart {\n",
              "      --bg-color: #E8F0FE;\n",
              "      --fill-color: #1967D2;\n",
              "      --hover-bg-color: #E2EBFA;\n",
              "      --hover-fill-color: #174EA6;\n",
              "      --disabled-fill-color: #AAA;\n",
              "      --disabled-bg-color: #DDD;\n",
              "  }\n",
              "\n",
              "  [theme=dark] .colab-df-quickchart {\n",
              "      --bg-color: #3B4455;\n",
              "      --fill-color: #D2E3FC;\n",
              "      --hover-bg-color: #434B5C;\n",
              "      --hover-fill-color: #FFFFFF;\n",
              "      --disabled-bg-color: #3B4455;\n",
              "      --disabled-fill-color: #666;\n",
              "  }\n",
              "\n",
              "  .colab-df-quickchart {\n",
              "    background-color: var(--bg-color);\n",
              "    border: none;\n",
              "    border-radius: 50%;\n",
              "    cursor: pointer;\n",
              "    display: none;\n",
              "    fill: var(--fill-color);\n",
              "    height: 32px;\n",
              "    padding: 0;\n",
              "    width: 32px;\n",
              "  }\n",
              "\n",
              "  .colab-df-quickchart:hover {\n",
              "    background-color: var(--hover-bg-color);\n",
              "    box-shadow: 0 1px 2px rgba(60, 64, 67, 0.3), 0 1px 3px 1px rgba(60, 64, 67, 0.15);\n",
              "    fill: var(--button-hover-fill-color);\n",
              "  }\n",
              "\n",
              "  .colab-df-quickchart-complete:disabled,\n",
              "  .colab-df-quickchart-complete:disabled:hover {\n",
              "    background-color: var(--disabled-bg-color);\n",
              "    fill: var(--disabled-fill-color);\n",
              "    box-shadow: none;\n",
              "  }\n",
              "\n",
              "  .colab-df-spinner {\n",
              "    border: 2px solid var(--fill-color);\n",
              "    border-color: transparent;\n",
              "    border-bottom-color: var(--fill-color);\n",
              "    animation:\n",
              "      spin 1s steps(1) infinite;\n",
              "  }\n",
              "\n",
              "  @keyframes spin {\n",
              "    0% {\n",
              "      border-color: transparent;\n",
              "      border-bottom-color: var(--fill-color);\n",
              "      border-left-color: var(--fill-color);\n",
              "    }\n",
              "    20% {\n",
              "      border-color: transparent;\n",
              "      border-left-color: var(--fill-color);\n",
              "      border-top-color: var(--fill-color);\n",
              "    }\n",
              "    30% {\n",
              "      border-color: transparent;\n",
              "      border-left-color: var(--fill-color);\n",
              "      border-top-color: var(--fill-color);\n",
              "      border-right-color: var(--fill-color);\n",
              "    }\n",
              "    40% {\n",
              "      border-color: transparent;\n",
              "      border-right-color: var(--fill-color);\n",
              "      border-top-color: var(--fill-color);\n",
              "    }\n",
              "    60% {\n",
              "      border-color: transparent;\n",
              "      border-right-color: var(--fill-color);\n",
              "    }\n",
              "    80% {\n",
              "      border-color: transparent;\n",
              "      border-right-color: var(--fill-color);\n",
              "      border-bottom-color: var(--fill-color);\n",
              "    }\n",
              "    90% {\n",
              "      border-color: transparent;\n",
              "      border-bottom-color: var(--fill-color);\n",
              "    }\n",
              "  }\n",
              "</style>\n",
              "\n",
              "  <script>\n",
              "    async function quickchart(key) {\n",
              "      const quickchartButtonEl =\n",
              "        document.querySelector('#' + key + ' button');\n",
              "      quickchartButtonEl.disabled = true;  // To prevent multiple clicks.\n",
              "      quickchartButtonEl.classList.add('colab-df-spinner');\n",
              "      try {\n",
              "        const charts = await google.colab.kernel.invokeFunction(\n",
              "            'suggestCharts', [key], {});\n",
              "      } catch (error) {\n",
              "        console.error('Error during call to suggestCharts:', error);\n",
              "      }\n",
              "      quickchartButtonEl.classList.remove('colab-df-spinner');\n",
              "      quickchartButtonEl.classList.add('colab-df-quickchart-complete');\n",
              "    }\n",
              "    (() => {\n",
              "      let quickchartButtonEl =\n",
              "        document.querySelector('#df-1ff6d229-468e-4b1f-bc76-2effad987754 button');\n",
              "      quickchartButtonEl.style.display =\n",
              "        google.colab.kernel.accessAllowed ? 'block' : 'none';\n",
              "    })();\n",
              "  </script>\n",
              "</div>\n",
              "\n",
              "  <div id=\"id_9e0c5193-473e-4cbb-a76b-88b00a2f54cd\">\n",
              "    <style>\n",
              "      .colab-df-generate {\n",
              "        background-color: #E8F0FE;\n",
              "        border: none;\n",
              "        border-radius: 50%;\n",
              "        cursor: pointer;\n",
              "        display: none;\n",
              "        fill: #1967D2;\n",
              "        height: 32px;\n",
              "        padding: 0 0 0 0;\n",
              "        width: 32px;\n",
              "      }\n",
              "\n",
              "      .colab-df-generate:hover {\n",
              "        background-color: #E2EBFA;\n",
              "        box-shadow: 0px 1px 2px rgba(60, 64, 67, 0.3), 0px 1px 3px 1px rgba(60, 64, 67, 0.15);\n",
              "        fill: #174EA6;\n",
              "      }\n",
              "\n",
              "      [theme=dark] .colab-df-generate {\n",
              "        background-color: #3B4455;\n",
              "        fill: #D2E3FC;\n",
              "      }\n",
              "\n",
              "      [theme=dark] .colab-df-generate:hover {\n",
              "        background-color: #434B5C;\n",
              "        box-shadow: 0px 1px 3px 1px rgba(0, 0, 0, 0.15);\n",
              "        filter: drop-shadow(0px 1px 2px rgba(0, 0, 0, 0.3));\n",
              "        fill: #FFFFFF;\n",
              "      }\n",
              "    </style>\n",
              "    <button class=\"colab-df-generate\" onclick=\"generateWithVariable('df')\"\n",
              "            title=\"Generate code using this dataframe.\"\n",
              "            style=\"display:none;\">\n",
              "\n",
              "  <svg xmlns=\"http://www.w3.org/2000/svg\" height=\"24px\"viewBox=\"0 0 24 24\"\n",
              "       width=\"24px\">\n",
              "    <path d=\"M7,19H8.4L18.45,9,17,7.55,7,17.6ZM5,21V16.75L18.45,3.32a2,2,0,0,1,2.83,0l1.4,1.43a1.91,1.91,0,0,1,.58,1.4,1.91,1.91,0,0,1-.58,1.4L9.25,21ZM18.45,9,17,7.55Zm-12,3A5.31,5.31,0,0,0,4.9,8.1,5.31,5.31,0,0,0,1,6.5,5.31,5.31,0,0,0,4.9,4.9,5.31,5.31,0,0,0,6.5,1,5.31,5.31,0,0,0,8.1,4.9,5.31,5.31,0,0,0,12,6.5,5.46,5.46,0,0,0,6.5,12Z\"/>\n",
              "  </svg>\n",
              "    </button>\n",
              "    <script>\n",
              "      (() => {\n",
              "      const buttonEl =\n",
              "        document.querySelector('#id_9e0c5193-473e-4cbb-a76b-88b00a2f54cd button.colab-df-generate');\n",
              "      buttonEl.style.display =\n",
              "        google.colab.kernel.accessAllowed ? 'block' : 'none';\n",
              "\n",
              "      buttonEl.onclick = () => {\n",
              "        google.colab.notebook.generateWithVariable('df');\n",
              "      }\n",
              "      })();\n",
              "    </script>\n",
              "  </div>\n",
              "\n",
              "    </div>\n",
              "  </div>\n"
            ],
            "application/vnd.google.colaboratory.intrinsic+json": {
              "type": "dataframe",
              "variable_name": "df"
            }
          },
          "metadata": {},
          "execution_count": 18
        }
      ]
    },
    {
      "cell_type": "code",
      "source": [],
      "metadata": {
        "id": "s6UhRY9Y5J4t"
      },
      "execution_count": 11,
      "outputs": []
    },
    {
      "cell_type": "code",
      "source": [],
      "metadata": {
        "id": "esSZ8ecz5rmC"
      },
      "execution_count": 11,
      "outputs": []
    },
    {
      "cell_type": "code",
      "source": [],
      "metadata": {
        "id": "PByup34c5zmk"
      },
      "execution_count": 11,
      "outputs": []
    },
    {
      "cell_type": "code",
      "source": [
        "df.loc[df.index.intersection(dates_with_holiday[dates_with_holiday].index), 'holiday']=True #setting the holidays to true"
      ],
      "metadata": {
        "id": "fWj2-o-5_hAs"
      },
      "execution_count": 19,
      "outputs": []
    },
    {
      "cell_type": "markdown",
      "source": [
        "After this, we take only the records corresponding to the year 2016"
      ],
      "metadata": {
        "id": "_qmeJqVPC_7G"
      }
    },
    {
      "cell_type": "code",
      "source": [
        "all_2016 = df.loc['2016'].copy()"
      ],
      "metadata": {
        "id": "gTVTMu9TAPlm"
      },
      "execution_count": 20,
      "outputs": []
    },
    {
      "cell_type": "code",
      "source": [
        "clustermap_data = all_2016[(all_2016['part_of_the_week']== 'Weekday') & (all_2016['holiday']== False)]\n",
        "\n",
        "clustermap_data"
      ],
      "metadata": {
        "id": "tDmgq9yMAeRX",
        "outputId": "878f4ed2-eee1-4dac-f32d-3aa01e5171b8",
        "colab": {
          "base_uri": "https://localhost:8080/",
          "height": 89
        }
      },
      "execution_count": 22,
      "outputs": [
        {
          "output_type": "execute_result",
          "data": {
            "text/plain": [
              "Empty DataFrame\n",
              "Columns: [station_id, stationname, daytype, rides, part_of_the_week, holiday, two_week_lag_rides]\n",
              "Index: []"
            ],
            "text/html": [
              "\n",
              "  <div id=\"df-be367d9a-b7b2-4010-9fbe-1298a918a2c7\" class=\"colab-df-container\">\n",
              "    <div>\n",
              "<style scoped>\n",
              "    .dataframe tbody tr th:only-of-type {\n",
              "        vertical-align: middle;\n",
              "    }\n",
              "\n",
              "    .dataframe tbody tr th {\n",
              "        vertical-align: top;\n",
              "    }\n",
              "\n",
              "    .dataframe thead th {\n",
              "        text-align: right;\n",
              "    }\n",
              "</style>\n",
              "<table border=\"1\" class=\"dataframe\">\n",
              "  <thead>\n",
              "    <tr style=\"text-align: right;\">\n",
              "      <th></th>\n",
              "      <th>station_id</th>\n",
              "      <th>stationname</th>\n",
              "      <th>daytype</th>\n",
              "      <th>rides</th>\n",
              "      <th>part_of_the_week</th>\n",
              "      <th>holiday</th>\n",
              "      <th>two_week_lag_rides</th>\n",
              "    </tr>\n",
              "    <tr>\n",
              "      <th>date</th>\n",
              "      <th></th>\n",
              "      <th></th>\n",
              "      <th></th>\n",
              "      <th></th>\n",
              "      <th></th>\n",
              "      <th></th>\n",
              "      <th></th>\n",
              "    </tr>\n",
              "  </thead>\n",
              "  <tbody>\n",
              "  </tbody>\n",
              "</table>\n",
              "</div>\n",
              "    <div class=\"colab-df-buttons\">\n",
              "\n",
              "  <div class=\"colab-df-container\">\n",
              "    <button class=\"colab-df-convert\" onclick=\"convertToInteractive('df-be367d9a-b7b2-4010-9fbe-1298a918a2c7')\"\n",
              "            title=\"Convert this dataframe to an interactive table.\"\n",
              "            style=\"display:none;\">\n",
              "\n",
              "  <svg xmlns=\"http://www.w3.org/2000/svg\" height=\"24px\" viewBox=\"0 -960 960 960\">\n",
              "    <path d=\"M120-120v-720h720v720H120Zm60-500h600v-160H180v160Zm220 220h160v-160H400v160Zm0 220h160v-160H400v160ZM180-400h160v-160H180v160Zm440 0h160v-160H620v160ZM180-180h160v-160H180v160Zm440 0h160v-160H620v160Z\"/>\n",
              "  </svg>\n",
              "    </button>\n",
              "\n",
              "  <style>\n",
              "    .colab-df-container {\n",
              "      display:flex;\n",
              "      gap: 12px;\n",
              "    }\n",
              "\n",
              "    .colab-df-convert {\n",
              "      background-color: #E8F0FE;\n",
              "      border: none;\n",
              "      border-radius: 50%;\n",
              "      cursor: pointer;\n",
              "      display: none;\n",
              "      fill: #1967D2;\n",
              "      height: 32px;\n",
              "      padding: 0 0 0 0;\n",
              "      width: 32px;\n",
              "    }\n",
              "\n",
              "    .colab-df-convert:hover {\n",
              "      background-color: #E2EBFA;\n",
              "      box-shadow: 0px 1px 2px rgba(60, 64, 67, 0.3), 0px 1px 3px 1px rgba(60, 64, 67, 0.15);\n",
              "      fill: #174EA6;\n",
              "    }\n",
              "\n",
              "    .colab-df-buttons div {\n",
              "      margin-bottom: 4px;\n",
              "    }\n",
              "\n",
              "    [theme=dark] .colab-df-convert {\n",
              "      background-color: #3B4455;\n",
              "      fill: #D2E3FC;\n",
              "    }\n",
              "\n",
              "    [theme=dark] .colab-df-convert:hover {\n",
              "      background-color: #434B5C;\n",
              "      box-shadow: 0px 1px 3px 1px rgba(0, 0, 0, 0.15);\n",
              "      filter: drop-shadow(0px 1px 2px rgba(0, 0, 0, 0.3));\n",
              "      fill: #FFFFFF;\n",
              "    }\n",
              "  </style>\n",
              "\n",
              "    <script>\n",
              "      const buttonEl =\n",
              "        document.querySelector('#df-be367d9a-b7b2-4010-9fbe-1298a918a2c7 button.colab-df-convert');\n",
              "      buttonEl.style.display =\n",
              "        google.colab.kernel.accessAllowed ? 'block' : 'none';\n",
              "\n",
              "      async function convertToInteractive(key) {\n",
              "        const element = document.querySelector('#df-be367d9a-b7b2-4010-9fbe-1298a918a2c7');\n",
              "        const dataTable =\n",
              "          await google.colab.kernel.invokeFunction('convertToInteractive',\n",
              "                                                    [key], {});\n",
              "        if (!dataTable) return;\n",
              "\n",
              "        const docLinkHtml = 'Like what you see? Visit the ' +\n",
              "          '<a target=\"_blank\" href=https://colab.research.google.com/notebooks/data_table.ipynb>data table notebook</a>'\n",
              "          + ' to learn more about interactive tables.';\n",
              "        element.innerHTML = '';\n",
              "        dataTable['output_type'] = 'display_data';\n",
              "        await google.colab.output.renderOutput(dataTable, element);\n",
              "        const docLink = document.createElement('div');\n",
              "        docLink.innerHTML = docLinkHtml;\n",
              "        element.appendChild(docLink);\n",
              "      }\n",
              "    </script>\n",
              "  </div>\n",
              "\n",
              "\n",
              "  <div id=\"id_10fb681a-f899-45b4-84b4-94cfed5d05b1\">\n",
              "    <style>\n",
              "      .colab-df-generate {\n",
              "        background-color: #E8F0FE;\n",
              "        border: none;\n",
              "        border-radius: 50%;\n",
              "        cursor: pointer;\n",
              "        display: none;\n",
              "        fill: #1967D2;\n",
              "        height: 32px;\n",
              "        padding: 0 0 0 0;\n",
              "        width: 32px;\n",
              "      }\n",
              "\n",
              "      .colab-df-generate:hover {\n",
              "        background-color: #E2EBFA;\n",
              "        box-shadow: 0px 1px 2px rgba(60, 64, 67, 0.3), 0px 1px 3px 1px rgba(60, 64, 67, 0.15);\n",
              "        fill: #174EA6;\n",
              "      }\n",
              "\n",
              "      [theme=dark] .colab-df-generate {\n",
              "        background-color: #3B4455;\n",
              "        fill: #D2E3FC;\n",
              "      }\n",
              "\n",
              "      [theme=dark] .colab-df-generate:hover {\n",
              "        background-color: #434B5C;\n",
              "        box-shadow: 0px 1px 3px 1px rgba(0, 0, 0, 0.15);\n",
              "        filter: drop-shadow(0px 1px 2px rgba(0, 0, 0, 0.3));\n",
              "        fill: #FFFFFF;\n",
              "      }\n",
              "    </style>\n",
              "    <button class=\"colab-df-generate\" onclick=\"generateWithVariable('clustermap_data')\"\n",
              "            title=\"Generate code using this dataframe.\"\n",
              "            style=\"display:none;\">\n",
              "\n",
              "  <svg xmlns=\"http://www.w3.org/2000/svg\" height=\"24px\"viewBox=\"0 0 24 24\"\n",
              "       width=\"24px\">\n",
              "    <path d=\"M7,19H8.4L18.45,9,17,7.55,7,17.6ZM5,21V16.75L18.45,3.32a2,2,0,0,1,2.83,0l1.4,1.43a1.91,1.91,0,0,1,.58,1.4,1.91,1.91,0,0,1-.58,1.4L9.25,21ZM18.45,9,17,7.55Zm-12,3A5.31,5.31,0,0,0,4.9,8.1,5.31,5.31,0,0,0,1,6.5,5.31,5.31,0,0,0,4.9,4.9,5.31,5.31,0,0,0,6.5,1,5.31,5.31,0,0,0,8.1,4.9,5.31,5.31,0,0,0,12,6.5,5.46,5.46,0,0,0,6.5,12Z\"/>\n",
              "  </svg>\n",
              "    </button>\n",
              "    <script>\n",
              "      (() => {\n",
              "      const buttonEl =\n",
              "        document.querySelector('#id_10fb681a-f899-45b4-84b4-94cfed5d05b1 button.colab-df-generate');\n",
              "      buttonEl.style.display =\n",
              "        google.colab.kernel.accessAllowed ? 'block' : 'none';\n",
              "\n",
              "      buttonEl.onclick = () => {\n",
              "        google.colab.notebook.generateWithVariable('clustermap_data');\n",
              "      }\n",
              "      })();\n",
              "    </script>\n",
              "  </div>\n",
              "\n",
              "    </div>\n",
              "  </div>\n"
            ],
            "application/vnd.google.colaboratory.intrinsic+json": {
              "type": "dataframe",
              "variable_name": "clustermap_data",
              "repr_error": "Out of range float values are not JSON compliant: nan"
            }
          },
          "metadata": {},
          "execution_count": 22
        }
      ]
    },
    {
      "cell_type": "markdown",
      "metadata": {
        "id": "3Ga5ujOiPydd"
      },
      "source": [
        "We take the data only for weekdays and that are not holidays"
      ]
    },
    {
      "cell_type": "code",
      "metadata": {
        "id": "pDkL3vtG_ot4"
      },
      "source": [],
      "execution_count": 12,
      "outputs": []
    },
    {
      "cell_type": "code",
      "metadata": {
        "id": "RufpfDN2Fjy0"
      },
      "source": [],
      "execution_count": 12,
      "outputs": []
    },
    {
      "cell_type": "markdown",
      "metadata": {
        "id": "PRm20Fg8P7Fz"
      },
      "source": [
        "We create the pivot table where the rows are the days of the year 2016, and the columns are the seasons. Each cell in the data set represents the number of passengers for a specific station and day."
      ]
    },
    {
      "cell_type": "code",
      "metadata": {
        "id": "ORukbvUcOSvt"
      },
      "source": [],
      "execution_count": 12,
      "outputs": []
    },
    {
      "cell_type": "markdown",
      "metadata": {
        "id": "fZa_Bo8JQQwZ"
      },
      "source": [
        "We create the correlation matrix, and then we generate the graph. Which also includes a clustering function for the stations. That is, the stations with the highest positive correlation are contiguous and the stations with the highest negative correlation are far apart. This is represented with a dendrogram on the axes of the graph."
      ]
    },
    {
      "cell_type": "code",
      "metadata": {
        "id": "t4w3pKU7JXIY"
      },
      "source": [],
      "execution_count": 12,
      "outputs": []
    },
    {
      "cell_type": "code",
      "metadata": {
        "id": "ocI8O7lXKZN4",
        "outputId": "e27225c0-dd8e-4bb7-d2d5-b28371a5226c",
        "colab": {
          "base_uri": "https://localhost:8080/",
          "height": 147
        }
      },
      "source": [
        "corr_matrix.loc['O\\'Hare Airport','UIC-Halsted']"
      ],
      "execution_count": 13,
      "outputs": [
        {
          "output_type": "error",
          "ename": "NameError",
          "evalue": "name 'corr_matrix' is not defined",
          "traceback": [
            "\u001b[0;31m---------------------------------------------------------------------------\u001b[0m",
            "\u001b[0;31mNameError\u001b[0m                                 Traceback (most recent call last)",
            "\u001b[0;32m<ipython-input-13-7c312391bb4e>\u001b[0m in \u001b[0;36m<cell line: 1>\u001b[0;34m()\u001b[0m\n\u001b[0;32m----> 1\u001b[0;31m \u001b[0mcorr_matrix\u001b[0m\u001b[0;34m.\u001b[0m\u001b[0mloc\u001b[0m\u001b[0;34m[\u001b[0m\u001b[0;34m'O\\'Hare Airport'\u001b[0m\u001b[0;34m,\u001b[0m\u001b[0;34m'UIC-Halsted'\u001b[0m\u001b[0;34m]\u001b[0m\u001b[0;34m\u001b[0m\u001b[0;34m\u001b[0m\u001b[0m\n\u001b[0m",
            "\u001b[0;31mNameError\u001b[0m: name 'corr_matrix' is not defined"
          ]
        }
      ]
    },
    {
      "cell_type": "code",
      "metadata": {
        "id": "z-8mzizFSifJ"
      },
      "source": [
        "corr_matrix.loc['Harlem-Lake','Quincy/Wells']"
      ],
      "execution_count": null,
      "outputs": []
    },
    {
      "cell_type": "code",
      "source": [
        "sns.heatmap(corr_matrix, cmap ='RdBu_r')"
      ],
      "metadata": {
        "id": "A4nzq5VqEoTs"
      },
      "execution_count": null,
      "outputs": []
    },
    {
      "cell_type": "code",
      "metadata": {
        "id": "xlZtoLtLBnL0"
      },
      "source": [
        "sns.clustermap(corr_matrix, cmap = 'RdBu_r', vmin = -1, vmax = 1)"
      ],
      "execution_count": null,
      "outputs": []
    },
    {
      "cell_type": "markdown",
      "metadata": {
        "id": "FhqsgUVbTvlP"
      },
      "source": [
        "## Line charts"
      ]
    },
    {
      "cell_type": "code",
      "source": [
        "train_df_cl.groupby('part_of_the_week').reseample(\"ME\").agg({\n",
        "    'rides_x1000': 'mean'\n",
        "    , 'month_name': 'max'\n",
        "    , 'year': 'max'\n",
        "\n",
        "})"
      ],
      "metadata": {
        "id": "mDRuGVajPRvF",
        "outputId": "345a60ac-c951-4cf0-ebd7-5a098c901de8",
        "colab": {
          "base_uri": "https://localhost:8080/",
          "height": 147
        }
      },
      "execution_count": 23,
      "outputs": [
        {
          "output_type": "error",
          "ename": "NameError",
          "evalue": "name 'train_df_cl' is not defined",
          "traceback": [
            "\u001b[0;31m---------------------------------------------------------------------------\u001b[0m",
            "\u001b[0;31mNameError\u001b[0m                                 Traceback (most recent call last)",
            "\u001b[0;32m<ipython-input-23-d072c5203260>\u001b[0m in \u001b[0;36m<cell line: 1>\u001b[0;34m()\u001b[0m\n\u001b[0;32m----> 1\u001b[0;31m \u001b[0mtrain_df_cl\u001b[0m\u001b[0;34m\u001b[0m\u001b[0;34m\u001b[0m\u001b[0m\n\u001b[0m",
            "\u001b[0;31mNameError\u001b[0m: name 'train_df_cl' is not defined"
          ]
        }
      ]
    },
    {
      "cell_type": "code",
      "source": [],
      "metadata": {
        "id": "EWXsh2kLSCUX"
      },
      "execution_count": null,
      "outputs": []
    },
    {
      "cell_type": "code",
      "source": [],
      "metadata": {
        "id": "7s4Q2t6YSx4j"
      },
      "execution_count": null,
      "outputs": []
    },
    {
      "cell_type": "code",
      "source": [],
      "metadata": {
        "id": "BJ2OJV8yZcc6"
      },
      "execution_count": null,
      "outputs": []
    },
    {
      "cell_type": "code",
      "source": [],
      "metadata": {
        "id": "_vMUhESbZdon"
      },
      "execution_count": null,
      "outputs": []
    },
    {
      "cell_type": "markdown",
      "metadata": {
        "id": "Fnp_hYMuZolL"
      },
      "source": [
        "Average weekly prices in Chicago have been recorded. We load the file and generate a line graph to see if there is any relationship with the number of passengers."
      ]
    },
    {
      "cell_type": "code",
      "metadata": {
        "id": "5MY6FPXKqBXY"
      },
      "source": [
        "gas_price_df = pd.read_csv('data/chicago_gas_prices.csv',index_col=0, parse_dates=True)"
      ],
      "execution_count": null,
      "outputs": []
    },
    {
      "cell_type": "code",
      "metadata": {
        "id": "bfTQwUfsv9wI"
      },
      "source": [
        "gas_price_df = gas_price_df.sort_index()"
      ],
      "execution_count": null,
      "outputs": []
    },
    {
      "cell_type": "code",
      "metadata": {
        "id": "sVPd_m9ZzpUE"
      },
      "source": [],
      "execution_count": null,
      "outputs": []
    },
    {
      "cell_type": "code",
      "metadata": {
        "id": "dNT0RDqsz1fg"
      },
      "source": [
        "gas_price_df['month_name'] = gas_price_df.index.month_name()\n",
        "gas_price_df['year'] = gas_price_df.index.year\n",
        "gas_price_df['part_of_the_week']=gas_price_df.index.weekday.map(lambda x: 'Weekday' if x<5 else 'Weekend')"
      ],
      "execution_count": null,
      "outputs": []
    },
    {
      "cell_type": "code",
      "metadata": {
        "id": "JnpvZXlP0XOa"
      },
      "source": [],
      "execution_count": null,
      "outputs": []
    },
    {
      "cell_type": "code",
      "source": [],
      "metadata": {
        "id": "p48QOAzxVsWO"
      },
      "execution_count": null,
      "outputs": []
    },
    {
      "cell_type": "code",
      "source": [],
      "metadata": {
        "id": "PMQ_OkHHWATC"
      },
      "execution_count": null,
      "outputs": []
    },
    {
      "cell_type": "code",
      "metadata": {
        "id": "VbyxzOr303lz"
      },
      "source": [],
      "execution_count": null,
      "outputs": []
    },
    {
      "cell_type": "markdown",
      "metadata": {
        "id": "M9bRIASOZ77Y"
      },
      "source": [
        "Now let's see if there is any relationship between average gasoline prices and the number of passengers.\n",
        "\n",
        "For this we calculate the monthly average of gasoline prices with a delay of 2 weeks and plot it against the geometric mean of the number of passengers at the Clark / Lake station."
      ]
    },
    {
      "cell_type": "code",
      "metadata": {
        "id": "NKQW2t2iAeTX"
      },
      "source": [],
      "execution_count": null,
      "outputs": []
    },
    {
      "cell_type": "code",
      "source": [],
      "metadata": {
        "id": "Pm7QWzmwc_Mf"
      },
      "execution_count": null,
      "outputs": []
    },
    {
      "cell_type": "code",
      "source": [],
      "metadata": {
        "id": "1VwoGC7ma4Zb"
      },
      "execution_count": null,
      "outputs": []
    },
    {
      "cell_type": "code",
      "source": [
        "line_plot_data_mean.loc[line_plot_data_mean.part_of_the_week=='Weekday', 'two_week_lag_gas_price'] = line_plot_gas_lagged['two_week_lag_gas_price']\n",
        "line_plot_data_mean.loc[line_plot_data_mean.part_of_the_week=='Weekend', 'two_week_lag_gas_price'] = line_plot_gas_lagged['two_week_lag_gas_price']\n",
        "line_plot_data_mean.head()"
      ],
      "metadata": {
        "id": "u7on0_T5ftRz"
      },
      "execution_count": null,
      "outputs": []
    },
    {
      "cell_type": "code",
      "metadata": {
        "id": "mkg63CcVJ3aJ"
      },
      "source": [
        "line_plot_data_mean.year = line_plot_data_mean.year.astype(str) # we make it string so it is considered categorical variable"
      ],
      "execution_count": null,
      "outputs": []
    },
    {
      "cell_type": "code",
      "metadata": {
        "id": "CpOSgKXOCSJZ"
      },
      "source": [],
      "execution_count": null,
      "outputs": []
    },
    {
      "cell_type": "markdown",
      "source": [
        "# Visualiation of categorical variables"
      ],
      "metadata": {
        "id": "EPqmLOT-1gf8"
      }
    },
    {
      "cell_type": "markdown",
      "metadata": {
        "id": "3BubrAgVnNwP"
      },
      "source": [
        "## Uploading data to various pandas DataFrames\n"
      ]
    },
    {
      "cell_type": "code",
      "metadata": {
        "id": "Xc-5O8wTnNwQ"
      },
      "source": [
        "urls = ['https://drive.google.com/uc?export=download&id=16AGQw1nM9NYILv2aSZaSNSn9jBPByWPq', # okc_train  https://drive.google.com/file/d/16AGQw1nM9NYILv2aSZaSNSn9jBPByWPq/view?usp=sharing\n",
        "        ]\n",
        "outputs = ['okc_train.csv']\n",
        "for url,output in zip(urls,outputs):\n",
        "  gdown.download(url, f'data/{output}', quiet=False)"
      ],
      "execution_count": null,
      "outputs": []
    },
    {
      "cell_type": "code",
      "metadata": {
        "id": "IW1nvSFwnNwR"
      },
      "source": [
        "df = pd.read_csv('data/okc_train.csv',index_col=0)"
      ],
      "execution_count": null,
      "outputs": []
    },
    {
      "cell_type": "code",
      "metadata": {
        "id": "T8FqJD3lTlCE"
      },
      "source": [],
      "execution_count": null,
      "outputs": []
    },
    {
      "cell_type": "code",
      "metadata": {
        "id": "JM2wEq7DA9bZ"
      },
      "source": [],
      "execution_count": null,
      "outputs": []
    },
    {
      "cell_type": "code",
      "metadata": {
        "id": "gxOp2geQdnuc"
      },
      "source": [],
      "execution_count": null,
      "outputs": []
    },
    {
      "cell_type": "code",
      "metadata": {
        "id": "F5sWN1fwBTrT"
      },
      "source": [],
      "execution_count": null,
      "outputs": []
    },
    {
      "cell_type": "code",
      "metadata": {
        "id": "qciF8D03UTn9"
      },
      "source": [],
      "execution_count": null,
      "outputs": []
    },
    {
      "cell_type": "code",
      "source": [],
      "metadata": {
        "id": "y_6koKjd81mc"
      },
      "execution_count": null,
      "outputs": []
    },
    {
      "cell_type": "code",
      "metadata": {
        "id": "wJovG87eA-1R"
      },
      "source": [],
      "execution_count": null,
      "outputs": []
    },
    {
      "cell_type": "code",
      "metadata": {
        "id": "ymszwhD_VKBJ"
      },
      "source": [],
      "execution_count": null,
      "outputs": []
    },
    {
      "cell_type": "markdown",
      "metadata": {
        "id": "59NvBeh1gsfs"
      },
      "source": [
        "## Bar chart\n",
        "\n",
        "The bar chart is the most common way to present counts on categorical variables.\n",
        "\n",
        "Let's use the category of religion for the first examples."
      ]
    },
    {
      "cell_type": "markdown",
      "metadata": {
        "id": "RUq18jIwhLWO"
      },
      "source": [
        "We create the dataset of the count of the two classes (i.e., stem and other) by value in the religion category"
      ]
    },
    {
      "cell_type": "markdown",
      "metadata": {
        "id": "7uzovBZShaGh"
      },
      "source": [
        "We present a bar graph partitioned and colored by the category of the target variable."
      ]
    },
    {
      "cell_type": "code",
      "source": [],
      "metadata": {
        "id": "39N4zo7Zl4pu"
      },
      "execution_count": null,
      "outputs": []
    },
    {
      "cell_type": "code",
      "source": [],
      "metadata": {
        "id": "msHF5gEbmk29"
      },
      "execution_count": null,
      "outputs": []
    },
    {
      "cell_type": "code",
      "source": [],
      "metadata": {
        "id": "bxWKWsvbmzNu"
      },
      "execution_count": null,
      "outputs": []
    },
    {
      "cell_type": "code",
      "source": [],
      "metadata": {
        "id": "sy0uF6gnlVTC"
      },
      "execution_count": null,
      "outputs": []
    },
    {
      "cell_type": "code",
      "source": [],
      "metadata": {
        "id": "6AazBTJjrkfL"
      },
      "execution_count": null,
      "outputs": []
    },
    {
      "cell_type": "code",
      "metadata": {
        "id": "khyz7ocfDMtI"
      },
      "source": [],
      "execution_count": null,
      "outputs": []
    },
    {
      "cell_type": "code",
      "metadata": {
        "id": "hO6aJj66Dj7o"
      },
      "source": [],
      "execution_count": null,
      "outputs": []
    },
    {
      "cell_type": "code",
      "metadata": {
        "id": "kLZN1VxJBDsT"
      },
      "source": [],
      "execution_count": null,
      "outputs": []
    },
    {
      "cell_type": "code",
      "metadata": {
        "id": "jLq-lKj9CbGk"
      },
      "source": [
        "c = df.groupby(['religion','Class']).size().rename(\"counts\")\n",
        "bar_percentage_data = (c / c.groupby(level=0).sum()).reset_index(name='proportion')"
      ],
      "execution_count": null,
      "outputs": []
    },
    {
      "cell_type": "code",
      "metadata": {
        "id": "fRjYxtX-HUfr"
      },
      "source": [],
      "execution_count": null,
      "outputs": []
    },
    {
      "cell_type": "code",
      "metadata": {
        "id": "dFt8vgSbHzCG"
      },
      "source": [
        "px.bar(data_frame=bar_percentage_data.sort_values(['Class','proportion'], ascending=[True,False]),\n",
        "       x='religion', y='proportion',\n",
        "       color='Class',  color_discrete_sequence=px.colors.sequential.Blues_r,\n",
        "       width=800, height=400 )"
      ],
      "execution_count": null,
      "outputs": []
    },
    {
      "cell_type": "markdown",
      "metadata": {
        "id": "Z_InhlFo14G2"
      },
      "source": [
        "## Exploring Relationships Between Categorical Predictors"
      ]
    },
    {
      "cell_type": "code",
      "metadata": {
        "id": "JgDLuqU-wYrg"
      },
      "source": [],
      "execution_count": null,
      "outputs": []
    },
    {
      "cell_type": "code",
      "metadata": {
        "id": "meG28Vkxwsim"
      },
      "source": [],
      "execution_count": null,
      "outputs": []
    },
    {
      "cell_type": "code",
      "metadata": {
        "id": "ZxhMxLt_QKza"
      },
      "source": [],
      "execution_count": null,
      "outputs": []
    },
    {
      "cell_type": "code",
      "metadata": {
        "id": "3Y_dHA9WrVd1"
      },
      "source": [
        "def return_emtpy(x):\n",
        "  return ''"
      ],
      "execution_count": null,
      "outputs": []
    },
    {
      "cell_type": "code",
      "metadata": {
        "id": "CHzYucNsYIaO"
      },
      "source": [],
      "execution_count": null,
      "outputs": []
    },
    {
      "cell_type": "code",
      "source": [],
      "metadata": {
        "id": "uaUgE-DMaYyo"
      },
      "execution_count": null,
      "outputs": []
    }
  ]
}